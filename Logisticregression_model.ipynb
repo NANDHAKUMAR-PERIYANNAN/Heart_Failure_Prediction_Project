{
 "cells": [
  {
   "cell_type": "code",
   "execution_count": 11,
   "metadata": {},
   "outputs": [],
   "source": [
    "import pandas as pd\n",
    "from sklearn.model_selection import train_test_split\n",
    "from sklearn.linear_model import LogisticRegression\n",
    "from sklearn.preprocessing import StandardScaler, OneHotEncoder\n",
    "from sklearn.compose import ColumnTransformer\n",
    "from sklearn.pipeline import Pipeline\n",
    "from sklearn.impute import SimpleImputer\n",
    "from sklearn.metrics import accuracy_score, classification_report, confusion_matrix\n",
    "import pickle\n",
    "\n",
    "# Load the dataset\n",
    "data = pd.read_csv(\"D:\\PROJECT SQUAD\\MAIN PROJECT\\heart_.csv\")"
   ]
  },
  {
   "cell_type": "code",
   "execution_count": 2,
   "metadata": {},
   "outputs": [],
   "source": [
    "\n",
    "\n",
    "\n",
    "# Define features and target\n",
    "X = data[['Age', 'RestingBP', 'Cholesterol', 'MaxHR', 'Oldpeak',\n",
    "          'Sex', 'ChestPainType', 'RestingECG', 'ExerciseAngina', 'ST_Slope', 'FastingBS']]\n",
    "y = data['HeartDisease']\n",
    "\n",
    "# Split the dataset into training and testing sets\n",
    "X_train, X_test, y_train, y_test = train_test_split(X, y, test_size=0.3, random_state=42)\n",
    "\n",
    "# Define preprocessing steps for numerical and categorical features\n",
    "numeric_features = ['Age', 'RestingBP', 'Cholesterol', 'MaxHR', 'Oldpeak']\n",
    "categorical_features = ['Sex', 'ChestPainType', 'RestingECG', 'ExerciseAngina', 'ST_Slope', 'FastingBS']"
   ]
  },
  {
   "cell_type": "code",
   "execution_count": 3,
   "metadata": {},
   "outputs": [
    {
     "data": {
      "text/html": [
       "<style>#sk-container-id-1 {color: black;}#sk-container-id-1 pre{padding: 0;}#sk-container-id-1 div.sk-toggleable {background-color: white;}#sk-container-id-1 label.sk-toggleable__label {cursor: pointer;display: block;width: 100%;margin-bottom: 0;padding: 0.3em;box-sizing: border-box;text-align: center;}#sk-container-id-1 label.sk-toggleable__label-arrow:before {content: \"▸\";float: left;margin-right: 0.25em;color: #696969;}#sk-container-id-1 label.sk-toggleable__label-arrow:hover:before {color: black;}#sk-container-id-1 div.sk-estimator:hover label.sk-toggleable__label-arrow:before {color: black;}#sk-container-id-1 div.sk-toggleable__content {max-height: 0;max-width: 0;overflow: hidden;text-align: left;background-color: #f0f8ff;}#sk-container-id-1 div.sk-toggleable__content pre {margin: 0.2em;color: black;border-radius: 0.25em;background-color: #f0f8ff;}#sk-container-id-1 input.sk-toggleable__control:checked~div.sk-toggleable__content {max-height: 200px;max-width: 100%;overflow: auto;}#sk-container-id-1 input.sk-toggleable__control:checked~label.sk-toggleable__label-arrow:before {content: \"▾\";}#sk-container-id-1 div.sk-estimator input.sk-toggleable__control:checked~label.sk-toggleable__label {background-color: #d4ebff;}#sk-container-id-1 div.sk-label input.sk-toggleable__control:checked~label.sk-toggleable__label {background-color: #d4ebff;}#sk-container-id-1 input.sk-hidden--visually {border: 0;clip: rect(1px 1px 1px 1px);clip: rect(1px, 1px, 1px, 1px);height: 1px;margin: -1px;overflow: hidden;padding: 0;position: absolute;width: 1px;}#sk-container-id-1 div.sk-estimator {font-family: monospace;background-color: #f0f8ff;border: 1px dotted black;border-radius: 0.25em;box-sizing: border-box;margin-bottom: 0.5em;}#sk-container-id-1 div.sk-estimator:hover {background-color: #d4ebff;}#sk-container-id-1 div.sk-parallel-item::after {content: \"\";width: 100%;border-bottom: 1px solid gray;flex-grow: 1;}#sk-container-id-1 div.sk-label:hover label.sk-toggleable__label {background-color: #d4ebff;}#sk-container-id-1 div.sk-serial::before {content: \"\";position: absolute;border-left: 1px solid gray;box-sizing: border-box;top: 0;bottom: 0;left: 50%;z-index: 0;}#sk-container-id-1 div.sk-serial {display: flex;flex-direction: column;align-items: center;background-color: white;padding-right: 0.2em;padding-left: 0.2em;position: relative;}#sk-container-id-1 div.sk-item {position: relative;z-index: 1;}#sk-container-id-1 div.sk-parallel {display: flex;align-items: stretch;justify-content: center;background-color: white;position: relative;}#sk-container-id-1 div.sk-item::before, #sk-container-id-1 div.sk-parallel-item::before {content: \"\";position: absolute;border-left: 1px solid gray;box-sizing: border-box;top: 0;bottom: 0;left: 50%;z-index: -1;}#sk-container-id-1 div.sk-parallel-item {display: flex;flex-direction: column;z-index: 1;position: relative;background-color: white;}#sk-container-id-1 div.sk-parallel-item:first-child::after {align-self: flex-end;width: 50%;}#sk-container-id-1 div.sk-parallel-item:last-child::after {align-self: flex-start;width: 50%;}#sk-container-id-1 div.sk-parallel-item:only-child::after {width: 0;}#sk-container-id-1 div.sk-dashed-wrapped {border: 1px dashed gray;margin: 0 0.4em 0.5em 0.4em;box-sizing: border-box;padding-bottom: 0.4em;background-color: white;}#sk-container-id-1 div.sk-label label {font-family: monospace;font-weight: bold;display: inline-block;line-height: 1.2em;}#sk-container-id-1 div.sk-label-container {text-align: center;}#sk-container-id-1 div.sk-container {/* jupyter's `normalize.less` sets `[hidden] { display: none; }` but bootstrap.min.css set `[hidden] { display: none !important; }` so we also need the `!important` here to be able to override the default hidden behavior on the sphinx rendered scikit-learn.org. See: https://github.com/scikit-learn/scikit-learn/issues/21755 */display: inline-block !important;position: relative;}#sk-container-id-1 div.sk-text-repr-fallback {display: none;}</style><div id=\"sk-container-id-1\" class=\"sk-top-container\"><div class=\"sk-text-repr-fallback\"><pre>Pipeline(steps=[(&#x27;preprocessor&#x27;,\n",
       "                 ColumnTransformer(transformers=[(&#x27;num&#x27;,\n",
       "                                                  Pipeline(steps=[(&#x27;imputer&#x27;,\n",
       "                                                                   SimpleImputer()),\n",
       "                                                                  (&#x27;scaler&#x27;,\n",
       "                                                                   StandardScaler())]),\n",
       "                                                  [&#x27;Age&#x27;, &#x27;RestingBP&#x27;,\n",
       "                                                   &#x27;Cholesterol&#x27;, &#x27;MaxHR&#x27;,\n",
       "                                                   &#x27;Oldpeak&#x27;]),\n",
       "                                                 (&#x27;cat&#x27;,\n",
       "                                                  Pipeline(steps=[(&#x27;imputer&#x27;,\n",
       "                                                                   SimpleImputer(strategy=&#x27;most_frequent&#x27;)),\n",
       "                                                                  (&#x27;onehot&#x27;,\n",
       "                                                                   OneHotEncoder(handle_unknown=&#x27;ignore&#x27;))]),\n",
       "                                                  [&#x27;Sex&#x27;, &#x27;ChestPainType&#x27;,\n",
       "                                                   &#x27;RestingECG&#x27;,\n",
       "                                                   &#x27;ExerciseAngina&#x27;, &#x27;ST_Slope&#x27;,\n",
       "                                                   &#x27;FastingBS&#x27;])])),\n",
       "                (&#x27;classifier&#x27;, LogisticRegression())])</pre><b>In a Jupyter environment, please rerun this cell to show the HTML representation or trust the notebook. <br />On GitHub, the HTML representation is unable to render, please try loading this page with nbviewer.org.</b></div><div class=\"sk-container\" hidden><div class=\"sk-item sk-dashed-wrapped\"><div class=\"sk-label-container\"><div class=\"sk-label sk-toggleable\"><input class=\"sk-toggleable__control sk-hidden--visually\" id=\"sk-estimator-id-1\" type=\"checkbox\" ><label for=\"sk-estimator-id-1\" class=\"sk-toggleable__label sk-toggleable__label-arrow\">Pipeline</label><div class=\"sk-toggleable__content\"><pre>Pipeline(steps=[(&#x27;preprocessor&#x27;,\n",
       "                 ColumnTransformer(transformers=[(&#x27;num&#x27;,\n",
       "                                                  Pipeline(steps=[(&#x27;imputer&#x27;,\n",
       "                                                                   SimpleImputer()),\n",
       "                                                                  (&#x27;scaler&#x27;,\n",
       "                                                                   StandardScaler())]),\n",
       "                                                  [&#x27;Age&#x27;, &#x27;RestingBP&#x27;,\n",
       "                                                   &#x27;Cholesterol&#x27;, &#x27;MaxHR&#x27;,\n",
       "                                                   &#x27;Oldpeak&#x27;]),\n",
       "                                                 (&#x27;cat&#x27;,\n",
       "                                                  Pipeline(steps=[(&#x27;imputer&#x27;,\n",
       "                                                                   SimpleImputer(strategy=&#x27;most_frequent&#x27;)),\n",
       "                                                                  (&#x27;onehot&#x27;,\n",
       "                                                                   OneHotEncoder(handle_unknown=&#x27;ignore&#x27;))]),\n",
       "                                                  [&#x27;Sex&#x27;, &#x27;ChestPainType&#x27;,\n",
       "                                                   &#x27;RestingECG&#x27;,\n",
       "                                                   &#x27;ExerciseAngina&#x27;, &#x27;ST_Slope&#x27;,\n",
       "                                                   &#x27;FastingBS&#x27;])])),\n",
       "                (&#x27;classifier&#x27;, LogisticRegression())])</pre></div></div></div><div class=\"sk-serial\"><div class=\"sk-item sk-dashed-wrapped\"><div class=\"sk-label-container\"><div class=\"sk-label sk-toggleable\"><input class=\"sk-toggleable__control sk-hidden--visually\" id=\"sk-estimator-id-2\" type=\"checkbox\" ><label for=\"sk-estimator-id-2\" class=\"sk-toggleable__label sk-toggleable__label-arrow\">preprocessor: ColumnTransformer</label><div class=\"sk-toggleable__content\"><pre>ColumnTransformer(transformers=[(&#x27;num&#x27;,\n",
       "                                 Pipeline(steps=[(&#x27;imputer&#x27;, SimpleImputer()),\n",
       "                                                 (&#x27;scaler&#x27;, StandardScaler())]),\n",
       "                                 [&#x27;Age&#x27;, &#x27;RestingBP&#x27;, &#x27;Cholesterol&#x27;, &#x27;MaxHR&#x27;,\n",
       "                                  &#x27;Oldpeak&#x27;]),\n",
       "                                (&#x27;cat&#x27;,\n",
       "                                 Pipeline(steps=[(&#x27;imputer&#x27;,\n",
       "                                                  SimpleImputer(strategy=&#x27;most_frequent&#x27;)),\n",
       "                                                 (&#x27;onehot&#x27;,\n",
       "                                                  OneHotEncoder(handle_unknown=&#x27;ignore&#x27;))]),\n",
       "                                 [&#x27;Sex&#x27;, &#x27;ChestPainType&#x27;, &#x27;RestingECG&#x27;,\n",
       "                                  &#x27;ExerciseAngina&#x27;, &#x27;ST_Slope&#x27;, &#x27;FastingBS&#x27;])])</pre></div></div></div><div class=\"sk-parallel\"><div class=\"sk-parallel-item\"><div class=\"sk-item\"><div class=\"sk-label-container\"><div class=\"sk-label sk-toggleable\"><input class=\"sk-toggleable__control sk-hidden--visually\" id=\"sk-estimator-id-3\" type=\"checkbox\" ><label for=\"sk-estimator-id-3\" class=\"sk-toggleable__label sk-toggleable__label-arrow\">num</label><div class=\"sk-toggleable__content\"><pre>[&#x27;Age&#x27;, &#x27;RestingBP&#x27;, &#x27;Cholesterol&#x27;, &#x27;MaxHR&#x27;, &#x27;Oldpeak&#x27;]</pre></div></div></div><div class=\"sk-serial\"><div class=\"sk-item\"><div class=\"sk-serial\"><div class=\"sk-item\"><div class=\"sk-estimator sk-toggleable\"><input class=\"sk-toggleable__control sk-hidden--visually\" id=\"sk-estimator-id-4\" type=\"checkbox\" ><label for=\"sk-estimator-id-4\" class=\"sk-toggleable__label sk-toggleable__label-arrow\">SimpleImputer</label><div class=\"sk-toggleable__content\"><pre>SimpleImputer()</pre></div></div></div><div class=\"sk-item\"><div class=\"sk-estimator sk-toggleable\"><input class=\"sk-toggleable__control sk-hidden--visually\" id=\"sk-estimator-id-5\" type=\"checkbox\" ><label for=\"sk-estimator-id-5\" class=\"sk-toggleable__label sk-toggleable__label-arrow\">StandardScaler</label><div class=\"sk-toggleable__content\"><pre>StandardScaler()</pre></div></div></div></div></div></div></div></div><div class=\"sk-parallel-item\"><div class=\"sk-item\"><div class=\"sk-label-container\"><div class=\"sk-label sk-toggleable\"><input class=\"sk-toggleable__control sk-hidden--visually\" id=\"sk-estimator-id-6\" type=\"checkbox\" ><label for=\"sk-estimator-id-6\" class=\"sk-toggleable__label sk-toggleable__label-arrow\">cat</label><div class=\"sk-toggleable__content\"><pre>[&#x27;Sex&#x27;, &#x27;ChestPainType&#x27;, &#x27;RestingECG&#x27;, &#x27;ExerciseAngina&#x27;, &#x27;ST_Slope&#x27;, &#x27;FastingBS&#x27;]</pre></div></div></div><div class=\"sk-serial\"><div class=\"sk-item\"><div class=\"sk-serial\"><div class=\"sk-item\"><div class=\"sk-estimator sk-toggleable\"><input class=\"sk-toggleable__control sk-hidden--visually\" id=\"sk-estimator-id-7\" type=\"checkbox\" ><label for=\"sk-estimator-id-7\" class=\"sk-toggleable__label sk-toggleable__label-arrow\">SimpleImputer</label><div class=\"sk-toggleable__content\"><pre>SimpleImputer(strategy=&#x27;most_frequent&#x27;)</pre></div></div></div><div class=\"sk-item\"><div class=\"sk-estimator sk-toggleable\"><input class=\"sk-toggleable__control sk-hidden--visually\" id=\"sk-estimator-id-8\" type=\"checkbox\" ><label for=\"sk-estimator-id-8\" class=\"sk-toggleable__label sk-toggleable__label-arrow\">OneHotEncoder</label><div class=\"sk-toggleable__content\"><pre>OneHotEncoder(handle_unknown=&#x27;ignore&#x27;)</pre></div></div></div></div></div></div></div></div></div></div><div class=\"sk-item\"><div class=\"sk-estimator sk-toggleable\"><input class=\"sk-toggleable__control sk-hidden--visually\" id=\"sk-estimator-id-9\" type=\"checkbox\" ><label for=\"sk-estimator-id-9\" class=\"sk-toggleable__label sk-toggleable__label-arrow\">LogisticRegression</label><div class=\"sk-toggleable__content\"><pre>LogisticRegression()</pre></div></div></div></div></div></div></div>"
      ],
      "text/plain": [
       "Pipeline(steps=[('preprocessor',\n",
       "                 ColumnTransformer(transformers=[('num',\n",
       "                                                  Pipeline(steps=[('imputer',\n",
       "                                                                   SimpleImputer()),\n",
       "                                                                  ('scaler',\n",
       "                                                                   StandardScaler())]),\n",
       "                                                  ['Age', 'RestingBP',\n",
       "                                                   'Cholesterol', 'MaxHR',\n",
       "                                                   'Oldpeak']),\n",
       "                                                 ('cat',\n",
       "                                                  Pipeline(steps=[('imputer',\n",
       "                                                                   SimpleImputer(strategy='most_frequent')),\n",
       "                                                                  ('onehot',\n",
       "                                                                   OneHotEncoder(handle_unknown='ignore'))]),\n",
       "                                                  ['Sex', 'ChestPainType',\n",
       "                                                   'RestingECG',\n",
       "                                                   'ExerciseAngina', 'ST_Slope',\n",
       "                                                   'FastingBS'])])),\n",
       "                ('classifier', LogisticRegression())])"
      ]
     },
     "execution_count": 3,
     "metadata": {},
     "output_type": "execute_result"
    }
   ],
   "source": [
    "\n",
    "\n",
    "numeric_transformer = Pipeline(steps=[\n",
    "    ('imputer', SimpleImputer(strategy='mean')),\n",
    "    ('scaler', StandardScaler())\n",
    "])\n",
    "\n",
    "categorical_transformer = Pipeline(steps=[\n",
    "    ('imputer', SimpleImputer(strategy='most_frequent')),\n",
    "    ('onehot', OneHotEncoder(handle_unknown='ignore'))\n",
    "])\n",
    "\n",
    "preprocessor = ColumnTransformer(\n",
    "    transformers=[\n",
    "        ('num', numeric_transformer, numeric_features),\n",
    "        ('cat', categorical_transformer, categorical_features)\n",
    "    ])\n",
    "\n",
    "# Append classifier to preprocessing pipeline\n",
    "clf = Pipeline(steps=[('preprocessor', preprocessor),\n",
    "                      ('classifier', LogisticRegression())])\n",
    "\n",
    "# Fit the model\n",
    "clf.fit(X_train, y_train)\n",
    "\n"
   ]
  },
  {
   "cell_type": "code",
   "execution_count": 4,
   "metadata": {},
   "outputs": [],
   "source": [
    "\n",
    "# Save the model to a file\n",
    "with open('heart_disease_model.pkl', 'wb') as file:\n",
    "    pickle.dump(clf, file)"
   ]
  },
  {
   "cell_type": "code",
   "execution_count": 5,
   "metadata": {},
   "outputs": [
    {
     "name": "stdout",
     "output_type": "stream",
     "text": [
      "Predicted class for sample data: [0]\n"
     ]
    }
   ],
   "source": [
    "# Load the model from the saved file\n",
    "with open('heart_disease_model.pkl', 'rb') as file:\n",
    "    loaded_model = pickle.load(file)\n",
    "# Load the sample input data (replace this with your actual sample data)\n",
    "sample_data = pd.DataFrame({\n",
    "    'Age': [40],\n",
    "    'RestingBP': [120],\n",
    "    'Cholesterol': [200],\n",
    "    'MaxHR': [180],\n",
    "    'Oldpeak': [0.8],\n",
    "    'Sex': [0],  # Assuming 1 for male, 0 for female\n",
    "    'ChestPainType': [1],\n",
    "    'RestingECG': [1],\n",
    "    'ExerciseAngina': [1],\n",
    "    'ST_Slope': [1],\n",
    "    'FastingBS': [0]\n",
    "})\n",
    "\n",
    "# Test the model with the sample input\n",
    "prediction = loaded_model.predict(sample_data)\n",
    "print(f\"Predicted class for sample data: {prediction}\")"
   ]
  },
  {
   "cell_type": "code",
   "execution_count": 6,
   "metadata": {},
   "outputs": [
    {
     "name": "stdout",
     "output_type": "stream",
     "text": [
      "Predicted class for sample data: [1]\n"
     ]
    }
   ],
   "source": [
    "# Load the sample input data (replace this with your actual sample data)\n",
    "sample_data = pd.DataFrame({\n",
    "    'Age': [55],\n",
    "    'RestingBP': [140],\n",
    "    'Cholesterol': [240],\n",
    "    'MaxHR': [160],\n",
    "    'Oldpeak': [1.2],\n",
    "    'Sex': [0],  # Assuming 1 for male, 0 for female\n",
    "    'ChestPainType': [2],\n",
    "    'RestingECG': [0],\n",
    "    'ExerciseAngina': [1],\n",
    "    'ST_Slope': [2],\n",
    "    'FastingBS': [1]\n",
    "})\n",
    "\n",
    "# Test the model with the sample input\n",
    "prediction = loaded_model.predict(sample_data)\n",
    "print(f\"Predicted class for sample data: {prediction}\")"
   ]
  },
  {
   "cell_type": "code",
   "execution_count": 7,
   "metadata": {},
   "outputs": [
    {
     "name": "stdout",
     "output_type": "stream",
     "text": [
      "Individuals without heart disease:\n",
      "   Age  RestingBP  Cholesterol  MaxHR  Oldpeak  Sex  ChestPainType  \\\n",
      "1   40        120          200    180      0.8    0              1   \n",
      "\n",
      "   RestingECG  ExerciseAngina  ST_Slope  FastingBS  Predicted_HeartDisease  \n",
      "1           1               0         1          0                       0  \n",
      "Individuals predicted to have heart disease:\n",
      "   Age  RestingBP  Cholesterol  MaxHR  Oldpeak  Sex  ChestPainType  \\\n",
      "0   55        140          240    160      1.2    1              2   \n",
      "\n",
      "   RestingECG  ExerciseAngina  ST_Slope  FastingBS  Predicted_HeartDisease  \n",
      "0           0               1         2          1                       1  \n"
     ]
    }
   ],
   "source": [
    "# Create a DataFrame containing both the sample data and individuals without heart disease\n",
    "sample_data_with_hdd = pd.DataFrame({\n",
    "    'Age': [55, 40],  # Sample ages of individuals with and without heart disease\n",
    "    'RestingBP': [140, 120],  # Sample resting blood pressure of individuals with and without heart disease\n",
    "    'Cholesterol': [240, 200],  # Sample cholesterol levels of individuals with and without heart disease\n",
    "    'MaxHR': [160, 180],  # Sample maximum heart rates of individuals with and without heart disease\n",
    "    'Oldpeak': [1.2, 0.8],  # Sample old peak values of individuals with and without heart disease\n",
    "    'Sex': [1, 0],  # Assuming 1 for male, 0 for female for both samples\n",
    "    'ChestPainType': [2, 1],  # Sample chest pain types of individuals with and without heart disease\n",
    "    'RestingECG': [0, 1],  # Sample resting ECG results of individuals with and without heart disease\n",
    "    'ExerciseAngina': [1, 0],  # Sample exercise-induced angina of individuals with and without heart disease\n",
    "    'ST_Slope': [2, 1],  # Sample ST slope of individuals with and without heart disease\n",
    "    'FastingBS': [1, 0]  # Sample fasting blood sugar levels of individuals with and without heart disease\n",
    "})\n",
    "\n",
    "# Test the model with the sample input\n",
    "prediction = loaded_model.predict(sample_data_with_hdd)\n",
    "\n",
    "# Add the prediction results to the DataFrame\n",
    "sample_data_with_hdd['Predicted_HeartDisease'] = prediction\n",
    "\n",
    "# Filter individuals without heart disease\n",
    "no_heart_disease_df = sample_data_with_hdd[sample_data_with_hdd['Predicted_HeartDisease'] == 0]\n",
    "\n",
    "print(\"Individuals without heart disease:\")\n",
    "print(no_heart_disease_df)\n",
    "\n",
    "# Filter individuals with heart disease\n",
    "heart_disease_df = sample_data_with_hdd[sample_data_with_hdd['Predicted_HeartDisease'] == 1]\n",
    "\n",
    "print(\"Individuals predicted to have heart disease:\")\n",
    "print(heart_disease_df)\n"
   ]
  },
  {
   "cell_type": "code",
   "execution_count": 8,
   "metadata": {},
   "outputs": [],
   "source": [
    "# Fit the model\n",
    "clf.fit(X_train, y_train)\n",
    "\n",
    "# Predictions\n",
    "y_pred = clf.predict(X_test)\n",
    "\n",
    "# Evaluate the model\n",
    "accuracy = accuracy_score(y_test, y_pred)\n",
    "conf_matrix = confusion_matrix(y_test, y_pred)\n",
    "classification_rep = classification_report(y_test, y_pred)\n"
   ]
  },
  {
   "cell_type": "code",
   "execution_count": 9,
   "metadata": {},
   "outputs": [
    {
     "data": {
      "image/png": "[encoded data removed]",
      "text/plain": [
       "<Figure size 800x600 with 1 Axes>"
      ]
     },
     "metadata": {},
     "output_type": "display_data"
    },
    {
     "name": "stdout",
     "output_type": "stream",
     "text": [
      "Accuracy: 0.8804347826086957\n",
      "Confusion Matrix:\n",
      "[[ 99  13]\n",
      " [ 20 144]]\n",
      "Classification Report:\n",
      "              precision    recall  f1-score   support\n",
      "\n",
      "           0       0.83      0.88      0.86       112\n",
      "           1       0.92      0.88      0.90       164\n",
      "\n",
      "    accuracy                           0.88       276\n",
      "   macro avg       0.87      0.88      0.88       276\n",
      "weighted avg       0.88      0.88      0.88       276\n",
      "\n"
     ]
    }
   ],
   "source": [
    "import matplotlib.pyplot as plt\n",
    "import seaborn as sns\n",
    "from sklearn.metrics import confusion_matrix\n",
    "\n",
    "# Assuming you have the confusion matrix stored in conf_matrix\n",
    "# Ensure all values are integers and convert it to a numpy array\n",
    "conf_matrix = conf_matrix.astype(int)\n",
    "\n",
    "# Visualize the confusion matrix with customized annotations\n",
    "plt.figure(figsize=(8, 6))\n",
    "sns.heatmap(conf_matrix, cmap='Blues', cbar=False, annot=True, fmt='d')\n",
    "for i in range(len(conf_matrix)):\n",
    "    for j in range(len(conf_matrix)):\n",
    "        plt.text(j + 0.5, i + 0.5, conf_matrix[i, j], ha='center', va='center', color='black', fontsize=12)\n",
    "plt.xlabel('Predicted labels')\n",
    "plt.ylabel('True labels')\n",
    "plt.title('Confusion Matrix')\n",
    "plt.xticks(ticks=[0.5, 1.5], labels=['Negative', 'Positive'])\n",
    "plt.yticks(ticks=[0.5, 1.5], labels=['Negative', 'Positive'])\n",
    "plt.show()\n",
    "\n",
    "# Visualize Classification Report\n",
    "print(f'Accuracy: {accuracy}')\n",
    "print(f'Confusion Matrix:\\n{conf_matrix}')\n",
    "print(f'Classification Report:\\n{classification_rep}')\n"
   ]
  },
  {
   "cell_type": "code",
   "execution_count": 10,
   "metadata": {},
   "outputs": [
    {
     "name": "stderr",
     "output_type": "stream",
     "text": [
      "C:\\Users\\pnand\\AppData\\Local\\Packages\\PythonSoftwareFoundation.Python.3.11_qbz5n2kfra8p0\\LocalCache\\local-packages\\Python311\\site-packages\\matplotlib\\cm.py:494: RuntimeWarning: invalid value encountered in cast\n",
      "  xx = (xx * 255).astype(np.uint8)\n"
     ]
    },
    {
     "data": {
      "image/png": "[encoded data removed]",
      "text/plain": [
       "<Figure size 640x480 with 1 Axes>"
      ]
     },
     "metadata": {},
     "output_type": "display_data"
    }
   ],
   "source": [
    "import matplotlib.pyplot as plt\n",
    "import numpy as np\n",
    "\n",
    "def plot_classification_report(classification_rep, title='Classification report', cmap='RdBu'):\n",
    "    lines = classification_rep.split('\\n')\n",
    "    classes = []\n",
    "    plotMat = []\n",
    "    for line in lines[2: (len(lines) - 3)]:\n",
    "        t = line.split()\n",
    "        if len(t) > 0:\n",
    "            classes.append(t[0])\n",
    "        if len(t) > 1:\n",
    "            v = [float(x) for x in t[1: len(t) - 1]]\n",
    "            plotMat.append(v)\n",
    "    # Find the length of the longest row in plotMat\n",
    "    max_length = max(len(row) for row in plotMat)\n",
    "    # Pad shorter rows with NaN values to match the length of the longest row\n",
    "    plotMat = [row + [np.nan] * (max_length - len(row)) for row in plotMat]\n",
    "    fig, ax = plt.subplots()\n",
    "    plotMat = np.array(plotMat)  # Convert to numpy array\n",
    "    ax.imshow(np.expand_dims(plotMat, axis=0), interpolation='nearest', cmap=cmap)  # Expand dimensions to make it homogeneous\n",
    "    ax.set_title(title)\n",
    "    ax.set_xticks(np.arange(3))\n",
    "    ax.set_yticks(np.arange(len(classes)))\n",
    "    ax.set_xticklabels(['Precision', 'Recall', 'F1-score'], rotation=45)\n",
    "    ax.set_yticklabels(classes)\n",
    "    for i in range(len(classes)):\n",
    "        for j in range(3):\n",
    "            ax.text(j, i, format(plotMat[i][j], '.2f'), ha='center', va='center', color='black')\n",
    "    plt.xlabel('Metrics')\n",
    "    plt.ylabel('Classes')\n",
    "    plt.tight_layout()\n",
    "    plt.show()\n",
    "\n",
    "# # Example usage:\n",
    "# classification_rep = \"\"\"\n",
    "#              precision    recall  f1-score   support\n",
    "\n",
    "#           0       0.83      0.88      0.86       112\n",
    "#           1       0.92      0.88      0.90       164\n",
    "         \n",
    "# avg / total       0.88      0.88      0.88       276\n",
    "# \"\"\"\n",
    "\n",
    "plot_classification_report(classification_rep)\n"
   ]
  }
 ],
 "metadata": {
  "kernelspec": {
   "display_name": "Python 3",
   "language": "python",
   "name": "python3"
  },
  "language_info": {
   "codemirror_mode": {
    "name": "ipython",
    "version": 3
   },
   "file_extension": ".py",
   "mimetype": "text/x-python",
   "name": "python",
   "nbconvert_exporter": "python",
   "pygments_lexer": "ipython3",
   "version": "3.11.8"
  }
 },
 "nbformat": 4,
 "nbformat_minor": 2
}
